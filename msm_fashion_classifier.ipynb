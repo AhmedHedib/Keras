{
  "nbformat": 4,
  "nbformat_minor": 0,
  "metadata": {
    "colab": {
      "name": "msm_fashion_classifier.ipynb",
      "provenance": [],
      "collapsed_sections": []
    },
    "kernelspec": {
      "name": "python3",
      "display_name": "Python 3"
    },
    "language_info": {
      "name": "python"
    },
    "accelerator": "GPU"
  },
  "cells": [
    {
      "cell_type": "code",
      "execution_count": 2,
      "metadata": {
        "id": "kickNnzzEA2b"
      },
      "outputs": [],
      "source": [
        "import tensorflow as tf\n",
        "from tensorflow import keras\n",
        "from keras import datasets\n"
      ]
    },
    {
      "cell_type": "code",
      "source": [
        "(x_train,y_train),(x_test,y_test)=keras.datasets.fashion_mnist.load_data()\n",
        "print(x_train.shape,x_test.shape,y_train.shape,y_test.shape)\n"
      ],
      "metadata": {
        "colab": {
          "base_uri": "https://localhost:8080/"
        },
        "id": "ycpyVOCZEU0P",
        "outputId": "be98cfd7-6fe6-496a-f025-e758a946074f"
      },
      "execution_count": 3,
      "outputs": [
        {
          "output_type": "stream",
          "name": "stdout",
          "text": [
            "Downloading data from https://storage.googleapis.com/tensorflow/tf-keras-datasets/train-labels-idx1-ubyte.gz\n",
            "32768/29515 [=================================] - 0s 0us/step\n",
            "40960/29515 [=========================================] - 0s 0us/step\n",
            "Downloading data from https://storage.googleapis.com/tensorflow/tf-keras-datasets/train-images-idx3-ubyte.gz\n",
            "26427392/26421880 [==============================] - 0s 0us/step\n",
            "26435584/26421880 [==============================] - 0s 0us/step\n",
            "Downloading data from https://storage.googleapis.com/tensorflow/tf-keras-datasets/t10k-labels-idx1-ubyte.gz\n",
            "16384/5148 [===============================================================================================] - 0s 0us/step\n",
            "Downloading data from https://storage.googleapis.com/tensorflow/tf-keras-datasets/t10k-images-idx3-ubyte.gz\n",
            "4423680/4422102 [==============================] - 0s 0us/step\n",
            "4431872/4422102 [==============================] - 0s 0us/step\n",
            "(60000, 28, 28) (10000, 28, 28) (60000,) (10000,)\n"
          ]
        }
      ]
    },
    {
      "cell_type": "code",
      "source": [
        "x_train=x_train.reshape(x_train.shape[0],28,28,1)\n",
        "import matplotlib.pyplot as plt\n",
        "print(x_train.shape[0])\n",
        "x_test=x_test.reshape(x_test.shape[0],28,28,1)\n",
        "# plt.imshow(x_train[0])\n",
        "# plt.figure(figsize=(2,5))#width and height in inches \n",
        "# plt.imshow(x_train[0])\n"
      ],
      "metadata": {
        "colab": {
          "base_uri": "https://localhost:8080/"
        },
        "id": "W0q6IH4fDf4l",
        "outputId": "09e3d4ac-2d7a-4322-8936-6d860d7bedf7"
      },
      "execution_count": 4,
      "outputs": [
        {
          "output_type": "stream",
          "name": "stdout",
          "text": [
            "60000\n"
          ]
        }
      ]
    },
    {
      "cell_type": "code",
      "source": [
        "x_train=x_train.reshape(x_train.shape[0],28,28,1)\n",
        "x_test=x_test.reshape(x_test.shape[0],28,28,1)\n",
        "# print(x_train.shape)\n",
        "#normalization\n",
        "x_train=x_train.astype('float32')/255.0\n",
        "x_test=x_test.astype('float32')/255.0\n",
        "import tensorflow as tf\n",
        "y_train=keras.utils.to_categorical(y_train,10)\n",
        "y_test=keras.utils.to_categorical(y_test,10)\n"
      ],
      "metadata": {
        "id": "n_1F4znPDriC"
      },
      "execution_count": 5,
      "outputs": []
    },
    {
      "cell_type": "code",
      "source": [
        "from keras.layers import Conv2D,MaxPool2D,Dense,Flatten,Dropout\n",
        "from keras.models import Sequential\n",
        "model=Sequential()\n",
        "model.add(Conv2D(32,(3,3),activation='relu',input_shape=(28,28,1)))\n",
        "model.add(Conv2D(64,(3,3),activation='relu'))\n",
        "model.add(MaxPool2D(2,2))\n",
        "model.add(Flatten())\n",
        "model.add(Dense(128,activation='relu'))\n",
        "model.add(Dropout(0.2))\n",
        "model.add(Dense(10,activation='softmax'))\n",
        "model.summary()\n"
      ],
      "metadata": {
        "colab": {
          "base_uri": "https://localhost:8080/"
        },
        "id": "gD4j4PZiFUar",
        "outputId": "09aa3155-5acb-43fa-c92e-1be488e8d72e"
      },
      "execution_count": 6,
      "outputs": [
        {
          "output_type": "stream",
          "name": "stdout",
          "text": [
            "Model: \"sequential\"\n",
            "_________________________________________________________________\n",
            " Layer (type)                Output Shape              Param #   \n",
            "=================================================================\n",
            " conv2d (Conv2D)             (None, 26, 26, 32)        320       \n",
            "                                                                 \n",
            " conv2d_1 (Conv2D)           (None, 24, 24, 64)        18496     \n",
            "                                                                 \n",
            " max_pooling2d (MaxPooling2D  (None, 12, 12, 64)       0         \n",
            " )                                                               \n",
            "                                                                 \n",
            " flatten (Flatten)           (None, 9216)              0         \n",
            "                                                                 \n",
            " dense (Dense)               (None, 128)               1179776   \n",
            "                                                                 \n",
            " dropout (Dropout)           (None, 128)               0         \n",
            "                                                                 \n",
            " dense_1 (Dense)             (None, 10)                1290      \n",
            "                                                                 \n",
            "=================================================================\n",
            "Total params: 1,199,882\n",
            "Trainable params: 1,199,882\n",
            "Non-trainable params: 0\n",
            "_________________________________________________________________\n"
          ]
        }
      ]
    },
    {
      "cell_type": "code",
      "source": [
        "model.compile(optimizer='adam',loss='categorical_crossentropy',metrics=['accuracy'])\n",
        "# model.compile(optimizer='adam',loss = tf.keras.losses.SparseCategoricalCrossentropy(from_logits=True), metrics=['accuracy'])"
      ],
      "metadata": {
        "id": "v5lWnjtQHdlw"
      },
      "execution_count": 7,
      "outputs": []
    },
    {
      "cell_type": "code",
      "source": [
        "model.fit(x_train,y_train,epochs=10,validation_data=(x_test,y_test),batch_size=64,verbose=2)\n"
      ],
      "metadata": {
        "colab": {
          "base_uri": "https://localhost:8080/"
        },
        "id": "pUG8v2iGHcON",
        "outputId": "07e5967c-0326-4ccc-f389-d282194a3759"
      },
      "execution_count": 8,
      "outputs": [
        {
          "output_type": "stream",
          "name": "stdout",
          "text": [
            "Epoch 1/10\n",
            "938/938 - 19s - loss: 0.4200 - accuracy: 0.8496 - val_loss: 0.2987 - val_accuracy: 0.8903 - 19s/epoch - 20ms/step\n",
            "Epoch 2/10\n",
            "938/938 - 9s - loss: 0.2658 - accuracy: 0.9027 - val_loss: 0.2642 - val_accuracy: 0.8991 - 9s/epoch - 10ms/step\n",
            "Epoch 3/10\n",
            "938/938 - 9s - loss: 0.2175 - accuracy: 0.9205 - val_loss: 0.2307 - val_accuracy: 0.9159 - 9s/epoch - 9ms/step\n",
            "Epoch 4/10\n",
            "938/938 - 8s - loss: 0.1810 - accuracy: 0.9330 - val_loss: 0.2328 - val_accuracy: 0.9156 - 8s/epoch - 9ms/step\n",
            "Epoch 5/10\n",
            "938/938 - 8s - loss: 0.1546 - accuracy: 0.9431 - val_loss: 0.2298 - val_accuracy: 0.9235 - 8s/epoch - 9ms/step\n",
            "Epoch 6/10\n",
            "938/938 - 8s - loss: 0.1275 - accuracy: 0.9536 - val_loss: 0.2346 - val_accuracy: 0.9217 - 8s/epoch - 9ms/step\n",
            "Epoch 7/10\n",
            "938/938 - 8s - loss: 0.1083 - accuracy: 0.9590 - val_loss: 0.2453 - val_accuracy: 0.9200 - 8s/epoch - 9ms/step\n",
            "Epoch 8/10\n",
            "938/938 - 8s - loss: 0.0910 - accuracy: 0.9652 - val_loss: 0.2328 - val_accuracy: 0.9292 - 8s/epoch - 9ms/step\n",
            "Epoch 9/10\n",
            "938/938 - 9s - loss: 0.0746 - accuracy: 0.9722 - val_loss: 0.2604 - val_accuracy: 0.9288 - 9s/epoch - 10ms/step\n",
            "Epoch 10/10\n",
            "938/938 - 8s - loss: 0.0636 - accuracy: 0.9767 - val_loss: 0.2736 - val_accuracy: 0.9265 - 8s/epoch - 9ms/step\n"
          ]
        },
        {
          "output_type": "execute_result",
          "data": {
            "text/plain": [
              "<keras.callbacks.History at 0x7f27b0396950>"
            ]
          },
          "metadata": {},
          "execution_count": 8
        }
      ]
    },
    {
      "cell_type": "code",
      "source": [
        "score=model.evaluate(x_test,y_test)\n",
        "print('Accuracy of the model is : % ',score[1]*100)"
      ],
      "metadata": {
        "colab": {
          "base_uri": "https://localhost:8080/"
        },
        "id": "Sk2Iqys5TlGk",
        "outputId": "0664d877-ce28-4121-c739-2e501983f9d0"
      },
      "execution_count": 9,
      "outputs": [
        {
          "output_type": "stream",
          "name": "stdout",
          "text": [
            "313/313 [==============================] - 1s 4ms/step - loss: 0.2736 - accuracy: 0.9265\n",
            "Accuracy of the model is : %  92.65000224113464\n"
          ]
        }
      ]
    },
    {
      "cell_type": "code",
      "source": [
        "class_names=['T-shirt','Trouser','Pullover',\n",
        "             'Dress','Coat','Sandal','Shirt'\n",
        "             ,'Sneaker','Bag','Ankle boot']\n",
        "model.save('f_mnist_model')"
      ],
      "metadata": {
        "colab": {
          "base_uri": "https://localhost:8080/"
        },
        "id": "lcQWA3kMbqFn",
        "outputId": "85bd23e1-f34c-4f62-fd7c-4bdcbfe5c65f"
      },
      "execution_count": 10,
      "outputs": [
        {
          "output_type": "stream",
          "name": "stdout",
          "text": [
            "INFO:tensorflow:Assets written to: f_mnist_model/assets\n"
          ]
        }
      ]
    },
    {
      "cell_type": "code",
      "source": [
        "import numpy as np\n",
        "from keras.models import load_model\n",
        "from keras.preprocessing.image import load_img,img_to_array\n",
        "def call_img(file_name):\n",
        "  img=load_img(file_name,grayscale=True,target_size=(28,28))\n",
        "  img=img_to_array(img)\n",
        "  img=img.reshape(1,28,28,1)\n",
        "  img=img.astype('float32')/255.0\n",
        "  res=model.predict(img)\n",
        "  num=np.where(res==np.amax(res))\n",
        "  return num[1]\n",
        "model=load_model('/content/f_mnist_model')\n",
        "call_img('/content/dress.PNG')"
      ],
      "metadata": {
        "colab": {
          "base_uri": "https://localhost:8080/"
        },
        "id": "tepH1atLVpGq",
        "outputId": "eb032db4-71c2-4fb3-d1df-9c27da44e1e6"
      },
      "execution_count": 11,
      "outputs": [
        {
          "output_type": "stream",
          "name": "stderr",
          "text": [
            "/usr/local/lib/python3.7/dist-packages/keras_preprocessing/image/utils.py:107: UserWarning: grayscale is deprecated. Please use color_mode = \"grayscale\"\n",
            "  warnings.warn('grayscale is deprecated. Please use '\n"
          ]
        },
        {
          "output_type": "execute_result",
          "data": {
            "text/plain": [
              "array([3])"
            ]
          },
          "metadata": {},
          "execution_count": 11
        }
      ]
    }
  ]
}