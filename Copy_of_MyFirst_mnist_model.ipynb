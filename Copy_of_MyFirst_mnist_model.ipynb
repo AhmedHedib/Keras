{
 "cells": [
  {
   "cell_type": "code",
   "execution_count": 2,
   "metadata": {
    "id": "aipBet9yhFO0"
   },
   "outputs": [],
   "source": [
    "#1- importing requested libs\n",
    "import tensorflow as tf\n",
    "from tensorflow import keras\n",
    "# print(keras.__version__)\n",
    "from keras.datasets import mnist\n"
   ]
  },
  {
   "cell_type": "code",
   "execution_count": 3,
   "metadata": {
    "colab": {
     "base_uri": "https://localhost:8080/"
    },
    "id": "SfCYyo92rg9D",
    "outputId": "025cc34f-3402-4db9-c2dc-32e6e7cdba0f"
   },
   "outputs": [
    {
     "name": "stdout",
     "output_type": "stream",
     "text": [
      "Downloading data from https://storage.googleapis.com/tensorflow/tf-keras-datasets/mnist.npz\n",
      "11493376/11490434 [==============================] - 0s 0us/step\n",
      "11501568/11490434 [==============================] - 0s 0us/step\n",
      "(60000, 28, 28)\n"
     ]
    }
   ],
   "source": [
    "#2- loading data\n",
    "(x_train,y_train),(x_test,y_test)=mnist.load_data()\n",
    "print(x_train.shape)\n",
    "# Below we are learning how to load and show a pic \n",
    "from keras.preprocessing.image import load_img\n",
    "# image=load_img('mnist_pic_7.png')\n",
    "# print(image)#showing image shape or size\n",
    "# from IPython.display import Image\n",
    "# Image('mnist_pic_7.png')\n",
    "# # Image('cat.png',width=28,height=28)\n",
    "\n"
   ]
  },
  {
   "cell_type": "code",
   "execution_count": 3,
   "metadata": {
    "id": "94iRNiv4bwQh"
   },
   "outputs": [],
   "source": []
  },
  {
   "cell_type": "code",
   "execution_count": 4,
   "metadata": {
    "id": "DvllAitjxnJS"
   },
   "outputs": [],
   "source": [
    "#3- data processing\n",
    "#mnist image normalization\n",
    "x_train=x_train/255.0\n",
    "# y_train=y_train/255.0\n",
    "# print(x_train[1])\n",
    "x_train=x_train.reshape(x_train.shape[0],28,28,1)\n",
    "x_test=x_test.reshape(x_test.shape[0],28,28,1)\n",
    "# print(x_train.shape[0])"
   ]
  },
  {
   "cell_type": "code",
   "execution_count": 5,
   "metadata": {
    "id": "faD5uiGbXlp1"
   },
   "outputs": [],
   "source": [
    "from tensorflow import keras\n",
    "# from keras.utils import to_categorical\n",
    "y_train=y_train.astype('float32')\n",
    "y_train=keras.utils.to_categorical(y_train,num_classes=10,dtype='float32')\n",
    "y_test=keras.utils.to_categorical(y_test,num_classes=10,dtype='float32')\n"
   ]
  },
  {
   "cell_type": "code",
   "execution_count": 6,
   "metadata": {
    "colab": {
     "base_uri": "https://localhost:8080/"
    },
    "id": "6bZPTeQlxtz1",
    "outputId": "20384b96-d9d5-4f03-cffc-31cce87d2049"
   },
   "outputs": [
    {
     "name": "stdout",
     "output_type": "stream",
     "text": [
      "Model: \"sequential\"\n",
      "_________________________________________________________________\n",
      " Layer (type)                Output Shape              Param #   \n",
      "=================================================================\n",
      " conv2d (Conv2D)             (None, 21, 21, 32)        2080      \n",
      "                                                                 \n",
      " conv2d_1 (Conv2D)           (None, 19, 19, 64)        18496     \n",
      "                                                                 \n",
      " max_pooling2d (MaxPooling2D  (None, 9, 9, 64)         0         \n",
      " )                                                               \n",
      "                                                                 \n",
      " dropout (Dropout)           (None, 9, 9, 64)          0         \n",
      "                                                                 \n",
      " flatten (Flatten)           (None, 5184)              0         \n",
      "                                                                 \n",
      " dense (Dense)               (None, 32)                165920    \n",
      "                                                                 \n",
      " dense_1 (Dense)             (None, 10)                330       \n",
      "                                                                 \n",
      "=================================================================\n",
      "Total params: 186,826\n",
      "Trainable params: 186,826\n",
      "Non-trainable params: 0\n",
      "_________________________________________________________________\n"
     ]
    }
   ],
   "source": [
    "# 4- Building the model\n",
    "from keras.models import Sequential\n",
    "from keras.layers import Conv2D,MaxPool2D,Dense,Flatten,Dropout\n",
    "model=Sequential()\n",
    "model.add(Conv2D(32,(8,8),activation='relu',input_shape=(28,28,1)))\n",
    "model.add(Conv2D(64,(3,3),activation='relu'))\n",
    "model.add(MaxPool2D(2,2))\n",
    "model.add(Dropout(0.2))\n",
    "model.add(Flatten())\n",
    "model.add(Dense(32,activation='relu'))\n",
    "model.add(Dense(10,activation='softmax'))\n",
    "model.summary()"
   ]
  },
  {
   "cell_type": "code",
   "execution_count": 7,
   "metadata": {
    "colab": {
     "base_uri": "https://localhost:8080/"
    },
    "id": "xmjGfRmVxvIv",
    "outputId": "fe059d0d-4ff4-4b2a-cd1d-737af8f3a712"
   },
   "outputs": [
    {
     "name": "stdout",
     "output_type": "stream",
     "text": [
      "Epoch 1/3\n",
      "469/469 [==============================] - 14s 7ms/step - loss: 0.2049 - accuracy: 0.9378\n",
      "Epoch 2/3\n",
      "469/469 [==============================] - 3s 7ms/step - loss: 0.0614 - accuracy: 0.9813\n",
      "Epoch 3/3\n",
      "469/469 [==============================] - 3s 6ms/step - loss: 0.0429 - accuracy: 0.9868\n"
     ]
    },
    {
     "data": {
      "text/plain": [
       "<keras.callbacks.History at 0x7f76002b9c10>"
      ]
     },
     "execution_count": 7,
     "metadata": {},
     "output_type": "execute_result"
    }
   ],
   "source": [
    "\n",
    "model.compile(optimizer='adam',loss='categorical_crossentropy',metrics='accuracy')\n",
    "model.fit(x_train,y_train,batch_size=128,epochs=3)"
   ]
  },
  {
   "cell_type": "code",
   "execution_count": 8,
   "metadata": {
    "colab": {
     "base_uri": "https://localhost:8080/"
    },
    "id": "HEgB6kgDYVt6",
    "outputId": "2f257e76-7bfb-4f92-8a07-ef7e7d8546fc"
   },
   "outputs": [
    {
     "name": "stdout",
     "output_type": "stream",
     "text": [
      "313/313 [==============================] - 1s 3ms/step - loss: 6.1776 - accuracy: 0.9857\n",
      "Loss is :  6.177649021148682 /n And Accuracy is :  98.5700011253357 %\n"
     ]
    }
   ],
   "source": [
    "score=model.evaluate(x_test,y_test,verbose=1)\n",
    "print('Loss is : ',score[0],'/n And Accuracy is : ',score[1]*100,'%')"
   ]
  },
  {
   "cell_type": "code",
   "execution_count": 9,
   "metadata": {
    "colab": {
     "base_uri": "https://localhost:8080/"
    },
    "id": "zwMTxo0DaPDO",
    "outputId": "f6074072-959d-4c40-e84f-b542dd0e7dd4"
   },
   "outputs": [
    {
     "name": "stdout",
     "output_type": "stream",
     "text": [
      "saved\n"
     ]
    }
   ],
   "source": [
    "model.save('MyFirst_mnist_model.h5')\n",
    "print('saved')"
   ]
  },
  {
   "cell_type": "code",
   "execution_count": 10,
   "metadata": {
    "id": "EvY9RhNrbCl0"
   },
   "outputs": [],
   "source": [
    "from keras.models import load_model\n",
    "model=load_model('/content/MyFirst_mnist_model.h5')"
   ]
  },
  {
   "cell_type": "code",
   "execution_count": 25,
   "metadata": {
    "colab": {
     "base_uri": "https://localhost:8080/"
    },
    "id": "aLTNIl0wbyoL",
    "outputId": "005b2233-07e8-455e-ca4f-2a0238bc72fd"
   },
   "outputs": [
    {
     "name": "stdout",
     "output_type": "stream",
     "text": [
      "The predicted number is :  [5]\n",
      "[1.2919935e-05 6.5678381e-07 4.6799978e-05 1.3547333e-02 8.9212095e-09\n",
      " 9.8631346e-01 1.1919560e-06 8.1692597e-06 1.1686646e-05 5.7699177e-05]\n"
     ]
    },
    {
     "name": "stderr",
     "output_type": "stream",
     "text": [
      "/usr/local/lib/python3.7/dist-packages/keras_preprocessing/image/utils.py:107: UserWarning: grayscale is deprecated. Please use color_mode = \"grayscale\"\n",
      "  warnings.warn('grayscale is deprecated. Please use '\n"
     ]
    }
   ],
   "source": [
    "# Below we are learning how to load and show a pic \n",
    "from keras.preprocessing.image import load_img\n",
    "from keras.preprocessing.image import img_to_array\n",
    "image=load_img('/content/mnist_3.png',target_size=(28,28),grayscale=True)\n",
    "image=img_to_array(image)\n",
    "image=image.reshape(1,28,28,1)\n",
    "image=image.astype('float32')\n",
    "image=image/255.0\n",
    "\n",
    "from IPython.display import Image\n",
    "Image('/content/mnist_3.png')\n",
    "result=model.predict(image)\n",
    "import numpy as np\n",
    "num=np.where(result==np.amax(result))\n",
    "print('The predicted number is : ',num[1])\n",
    "print(result[0])\n"
   ]
  },
  {
   "cell_type": "code",
   "execution_count": 11,
   "metadata": {
    "id": "YDvqAToYcoo4"
   },
   "outputs": [],
   "source": []
  }
 ],
 "metadata": {
  "accelerator": "GPU",
  "colab": {
   "collapsed_sections": [],
   "name": "Copy of MyFirst_mnist_model.ipynb",
   "provenance": []
  },
  "kernelspec": {
   "display_name": "Python 3",
   "language": "python",
   "name": "python3"
  },
  "language_info": {
   "codemirror_mode": {
    "name": "ipython",
    "version": 3
   },
   "file_extension": ".py",
   "mimetype": "text/x-python",
   "name": "python",
   "nbconvert_exporter": "python",
   "pygments_lexer": "ipython3",
   "version": "3.8.8"
  }
 },
 "nbformat": 4,
 "nbformat_minor": 1
}
